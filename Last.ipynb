{
 "cells": [
  {
   "cell_type": "code",
   "execution_count": 43,
   "metadata": {
    "collapsed": false
   },
   "outputs": [],
   "source": [
    "%matplotlib inline\n",
    "import matplotlib as plt\n",
    "from matplotlib import pyplot\n",
    "import pandas as pd\n",
    "import numpy as np\n",
    "from sklearn.cross_validation import train_test_split\n",
    "from sklearn.cross_validation import cross_val_score, KFold\n",
    "from scipy.stats import sem\n",
    "from sklearn import metrics\n",
    "from sklearn.ensemble import RandomForestClassifier\n",
    "from sklearn.learning_curve import learning_curve\n",
    "import matplotlib.pyplot as plt\n",
    "from sklearn.metrics import confusion_matrix\n",
    "from sklearn.metrics import roc_curve, auc\n",
    "from time import time\n",
    "from operator import itemgetter\n",
    "from scipy.stats import randint as sp_randint\n",
    "from sklearn.grid_search import GridSearchCV, RandomizedSearchCV\n",
    "\n",
    "from sklearn import grid_search\n",
    "from sklearn.cross_validation import train_test_split\n",
    "from sklearn.ensemble import RandomForestClassifier\n",
    "\n",
    "plt=pyplot"
   ]
  },
  {
   "cell_type": "code",
   "execution_count": 44,
   "metadata": {
    "collapsed": false
   },
   "outputs": [],
   "source": [
    "dfrm = pd.read_csv(\"dummy2.csv\") "
   ]
  },
  {
   "cell_type": "code",
   "execution_count": 45,
   "metadata": {
    "collapsed": false
   },
   "outputs": [
    {
     "name": "stdout",
     "output_type": "stream",
     "text": [
      "Accepted\n",
      "Degree_Masters\n",
      "GPA\n",
      "Is_GPA\n",
      "Is_Quant\n",
      "Is_Verbal\n",
      "Is_Writing\n",
      "Quant_GRE_Normal\n",
      "Semester_Fall\n",
      "Sub_GRE\n",
      "Verbal_GRE_Normal\n",
      "Writing_GRE\n",
      "School_arizonastateuniversity\n",
      "School_bostonuniveristy\n",
      "School_brownuniversity\n",
      "School_buffalosuny\n",
      "School_carnegiemellon\n",
      "School_clemsonuniversity\n",
      "School_coloradouniversityboulder\n",
      "School_columbiauniversity\n",
      "School_cornelluniversity\n",
      "School_dartmouthcollege\n",
      "School_duke\n",
      "School_epfl\n",
      "School_ethzurich\n",
      "School_georgiatech\n",
      "School_harvarduniversity\n",
      "School_illinoisurbanachampaign\n",
      "School_indianauniversitybloomington\n",
      "School_iowasateuniversity\n",
      "School_johnshopkinsuniversity\n",
      "School_kingabdullahuniversityscienceandtechnology\n",
      "School_mcgilluniversity\n",
      "School_michiganstateuniversity\n",
      "School_mit\n",
      "School_newyorkuniversity\n",
      "School_northcarolinastateuniverisy\n",
      "School_northeasternuniversity\n",
      "School_northwesternuniversity\n",
      "School_ohiostateuniversity\n",
      "School_oregonstateuniversity\n",
      "School_oxford\n",
      "School_pennstateuniversity\n",
      "School_pittsburghu\n",
      "School_princeton\n",
      "School_purdueuniversity\n",
      "School_rensselaerpolytechnicinstitute\n",
      "School_riceuniversity\n",
      "School_rutgers\n",
      "School_simonfraseruniversitysfu\n",
      "School_stanforduniversity\n",
      "School_stateuniversitynewyorkstonybrook\n",
      "School_syracuseuniversity\n",
      "School_tamu\n",
      "School_texasuniversityaustin\n",
      "School_tuftsuniversity\n",
      "School_ucberkeley\n",
      "School_ucdavis\n",
      "School_uci\n",
      "School_ucla\n",
      "School_ucr\n",
      "School_ucsandiego\n",
      "School_ucsb\n",
      "School_ucsc\n",
      "School_umassamherst\n",
      "School_universityalberta\n",
      "School_universityarizona\n",
      "School_universitybritishcolumbia\n",
      "School_universitychicago\n",
      "School_universityflorida\n",
      "School_universitymaryland\n",
      "School_universitymichiganannarbor\n",
      "School_universityminnesota\n",
      "School_universitynotredame\n",
      "School_universityrochester\n",
      "School_universitytoronto\n",
      "School_universityutah\n",
      "School_universityvirginia\n",
      "School_universitywashington\n",
      "School_universitywaterloo\n",
      "School_universitywisconsinmadison\n",
      "School_upenn\n",
      "School_usc\n",
      "School_vanderbiltuniversity\n",
      "School_virginiatech\n",
      "School_yale\n",
      "Status_A\n",
      "Status_I\n",
      "Status_O\n",
      "Status_U\n"
     ]
    }
   ],
   "source": [
    "for i in dfrm.columns:\n",
    "    print i\n",
    "# print dfrm.shape"
   ]
  },
  {
   "cell_type": "code",
   "execution_count": 46,
   "metadata": {
    "collapsed": false
   },
   "outputs": [
    {
     "data": {
      "text/html": [
       "<div>\n",
       "<table border=\"1\" class=\"dataframe\">\n",
       "  <thead>\n",
       "    <tr style=\"text-align: right;\">\n",
       "      <th></th>\n",
       "      <th>Accepted</th>\n",
       "      <th>Degree_Masters</th>\n",
       "      <th>GPA</th>\n",
       "      <th>Is_GPA</th>\n",
       "      <th>Is_Quant</th>\n",
       "      <th>Is_Verbal</th>\n",
       "      <th>Is_Writing</th>\n",
       "      <th>Quant_GRE_Normal</th>\n",
       "      <th>Semester_Fall</th>\n",
       "      <th>Sub_GRE</th>\n",
       "      <th>...</th>\n",
       "      <th>School_universitywisconsinmadison</th>\n",
       "      <th>School_upenn</th>\n",
       "      <th>School_usc</th>\n",
       "      <th>School_vanderbiltuniversity</th>\n",
       "      <th>School_virginiatech</th>\n",
       "      <th>School_yale</th>\n",
       "      <th>Status_A</th>\n",
       "      <th>Status_I</th>\n",
       "      <th>Status_O</th>\n",
       "      <th>Status_U</th>\n",
       "    </tr>\n",
       "  </thead>\n",
       "  <tbody>\n",
       "    <tr>\n",
       "      <th>0</th>\n",
       "      <td>0</td>\n",
       "      <td>0</td>\n",
       "      <td>2</td>\n",
       "      <td>1</td>\n",
       "      <td>1</td>\n",
       "      <td>1</td>\n",
       "      <td>1</td>\n",
       "      <td>166</td>\n",
       "      <td>1</td>\n",
       "      <td>0</td>\n",
       "      <td>...</td>\n",
       "      <td>0</td>\n",
       "      <td>0</td>\n",
       "      <td>0</td>\n",
       "      <td>0</td>\n",
       "      <td>0</td>\n",
       "      <td>0</td>\n",
       "      <td>0</td>\n",
       "      <td>1</td>\n",
       "      <td>0</td>\n",
       "      <td>0</td>\n",
       "    </tr>\n",
       "    <tr>\n",
       "      <th>1</th>\n",
       "      <td>1</td>\n",
       "      <td>1</td>\n",
       "      <td>2</td>\n",
       "      <td>1</td>\n",
       "      <td>1</td>\n",
       "      <td>1</td>\n",
       "      <td>1</td>\n",
       "      <td>168</td>\n",
       "      <td>1</td>\n",
       "      <td>1</td>\n",
       "      <td>...</td>\n",
       "      <td>0</td>\n",
       "      <td>0</td>\n",
       "      <td>0</td>\n",
       "      <td>0</td>\n",
       "      <td>0</td>\n",
       "      <td>0</td>\n",
       "      <td>0</td>\n",
       "      <td>1</td>\n",
       "      <td>0</td>\n",
       "      <td>0</td>\n",
       "    </tr>\n",
       "    <tr>\n",
       "      <th>2</th>\n",
       "      <td>0</td>\n",
       "      <td>0</td>\n",
       "      <td>2</td>\n",
       "      <td>1</td>\n",
       "      <td>1</td>\n",
       "      <td>1</td>\n",
       "      <td>1</td>\n",
       "      <td>166</td>\n",
       "      <td>1</td>\n",
       "      <td>0</td>\n",
       "      <td>...</td>\n",
       "      <td>0</td>\n",
       "      <td>0</td>\n",
       "      <td>0</td>\n",
       "      <td>0</td>\n",
       "      <td>0</td>\n",
       "      <td>0</td>\n",
       "      <td>0</td>\n",
       "      <td>1</td>\n",
       "      <td>0</td>\n",
       "      <td>0</td>\n",
       "    </tr>\n",
       "    <tr>\n",
       "      <th>3</th>\n",
       "      <td>0</td>\n",
       "      <td>0</td>\n",
       "      <td>2</td>\n",
       "      <td>1</td>\n",
       "      <td>1</td>\n",
       "      <td>1</td>\n",
       "      <td>1</td>\n",
       "      <td>163</td>\n",
       "      <td>1</td>\n",
       "      <td>0</td>\n",
       "      <td>...</td>\n",
       "      <td>0</td>\n",
       "      <td>0</td>\n",
       "      <td>0</td>\n",
       "      <td>0</td>\n",
       "      <td>0</td>\n",
       "      <td>0</td>\n",
       "      <td>0</td>\n",
       "      <td>1</td>\n",
       "      <td>0</td>\n",
       "      <td>0</td>\n",
       "    </tr>\n",
       "    <tr>\n",
       "      <th>4</th>\n",
       "      <td>1</td>\n",
       "      <td>1</td>\n",
       "      <td>2</td>\n",
       "      <td>1</td>\n",
       "      <td>1</td>\n",
       "      <td>1</td>\n",
       "      <td>1</td>\n",
       "      <td>166</td>\n",
       "      <td>1</td>\n",
       "      <td>0</td>\n",
       "      <td>...</td>\n",
       "      <td>0</td>\n",
       "      <td>0</td>\n",
       "      <td>0</td>\n",
       "      <td>0</td>\n",
       "      <td>0</td>\n",
       "      <td>0</td>\n",
       "      <td>0</td>\n",
       "      <td>1</td>\n",
       "      <td>0</td>\n",
       "      <td>0</td>\n",
       "    </tr>\n",
       "  </tbody>\n",
       "</table>\n",
       "<p>5 rows × 90 columns</p>\n",
       "</div>"
      ],
      "text/plain": [
       "   Accepted  Degree_Masters  GPA  Is_GPA  Is_Quant  Is_Verbal  Is_Writing  \\\n",
       "0         0               0    2       1         1          1           1   \n",
       "1         1               1    2       1         1          1           1   \n",
       "2         0               0    2       1         1          1           1   \n",
       "3         0               0    2       1         1          1           1   \n",
       "4         1               1    2       1         1          1           1   \n",
       "\n",
       "   Quant_GRE_Normal  Semester_Fall  Sub_GRE    ...     \\\n",
       "0               166              1        0    ...      \n",
       "1               168              1        1    ...      \n",
       "2               166              1        0    ...      \n",
       "3               163              1        0    ...      \n",
       "4               166              1        0    ...      \n",
       "\n",
       "   School_universitywisconsinmadison  School_upenn  School_usc  \\\n",
       "0                                  0             0           0   \n",
       "1                                  0             0           0   \n",
       "2                                  0             0           0   \n",
       "3                                  0             0           0   \n",
       "4                                  0             0           0   \n",
       "\n",
       "   School_vanderbiltuniversity  School_virginiatech  School_yale  Status_A  \\\n",
       "0                            0                    0            0         0   \n",
       "1                            0                    0            0         0   \n",
       "2                            0                    0            0         0   \n",
       "3                            0                    0            0         0   \n",
       "4                            0                    0            0         0   \n",
       "\n",
       "   Status_I  Status_O  Status_U  \n",
       "0         1         0         0  \n",
       "1         1         0         0  \n",
       "2         1         0         0  \n",
       "3         1         0         0  \n",
       "4         1         0         0  \n",
       "\n",
       "[5 rows x 90 columns]"
      ]
     },
     "execution_count": 46,
     "metadata": {},
     "output_type": "execute_result"
    }
   ],
   "source": [
    "dfrm.head()"
   ]
  },
  {
   "cell_type": "code",
   "execution_count": 47,
   "metadata": {
    "collapsed": true
   },
   "outputs": [],
   "source": [
    "dfarray = dfrm.as_matrix()"
   ]
  },
  {
   "cell_type": "code",
   "execution_count": 48,
   "metadata": {
    "collapsed": false
   },
   "outputs": [
    {
     "name": "stdout",
     "output_type": "stream",
     "text": [
      "9261\n",
      "(9261, 90)\n",
      "[   0.     0.     2.     1.     1.     1.     1.   166.     1.     0.   165.\n",
      "    5.5    0.     0.     0.     0.     0.     0.     0.     0.     1.     0.\n",
      "    0.     0.     0.     0.     0.     0.     0.     0.     0.     0.     0.\n",
      "    0.     0.     0.     0.     0.     0.     0.     0.     0.     0.     0.\n",
      "    0.     0.     0.     0.     0.     0.     0.     0.     0.     0.     0.\n",
      "    0.     0.     0.     0.     0.     0.     0.     0.     0.     0.     0.\n",
      "    0.     0.     0.     0.     0.     0.     0.     0.     0.     0.     0.\n",
      "    0.     0.     0.     0.     0.     0.     0.     0.     0.     0.     1.\n",
      "    0.     0. ]\n"
     ]
    }
   ],
   "source": [
    "print len(dfarray)\n",
    "print dfarray.shape\n",
    "print dfarray[0]"
   ]
  },
  {
   "cell_type": "markdown",
   "metadata": {},
   "source": [
    "###Data-Target: Arrays"
   ]
  },
  {
   "cell_type": "code",
   "execution_count": 49,
   "metadata": {
    "collapsed": false
   },
   "outputs": [
    {
     "name": "stdout",
     "output_type": "stream",
     "text": [
      "(9261, 1)\n",
      "(9261, 89)\n",
      "[   0.     2.     1.     1.     1.     1.   166.     1.     0.   165.\n",
      "    5.5    0.     0.     0.     0.     0.     0.     0.     0.     1.     0.\n",
      "    0.     0.     0.     0.     0.     0.     0.     0.     0.     0.     0.\n",
      "    0.     0.     0.     0.     0.     0.     0.     0.     0.     0.     0.\n",
      "    0.     0.     0.     0.     0.     0.     0.     0.     0.     0.     0.\n",
      "    0.     0.     0.     0.     0.     0.     0.     0.     0.     0.     0.\n",
      "    0.     0.     0.     0.     0.     0.     0.     0.     0.     0.     0.\n",
      "    0.     0.     0.     0.     0.     0.     0.     0.     0.     0.     1.\n",
      "    0.     0. ]\n",
      "[ 0.]\n"
     ]
    }
   ],
   "source": [
    "y = dfarray[:, [0]]\n",
    "# X = dfarray[np.r_[0:263, -263:0]]\n",
    "X = np.delete(dfarray, np.s_[0:1:],1)\n",
    "\n",
    "print y.shape\n",
    "print X.shape\n",
    "\n",
    "type(X)\n",
    "print X[0]\n",
    "print y[0]"
   ]
  },
  {
   "cell_type": "markdown",
   "metadata": {},
   "source": [
    "###Train-Test Split"
   ]
  },
  {
   "cell_type": "code",
   "execution_count": 50,
   "metadata": {
    "collapsed": false
   },
   "outputs": [
    {
     "name": "stdout",
     "output_type": "stream",
     "text": [
      "(7408, 89)\n",
      "(7408, 1)\n",
      "(1853, 89)\n",
      "(1853, 1)\n"
     ]
    }
   ],
   "source": [
    "X_train, X_test, y_train, y_test = train_test_split(\n",
    "        X, y, test_size=0.20, random_state=0)\n",
    "\n",
    "print X_train.shape\n",
    "print y_train.shape\n",
    "print X_test.shape\n",
    "print y_test.shape"
   ]
  },
  {
   "cell_type": "markdown",
   "metadata": {},
   "source": [
    "###Random Forest"
   ]
  },
  {
   "cell_type": "code",
   "execution_count": 51,
   "metadata": {
    "collapsed": false
   },
   "outputs": [
    {
     "name": "stderr",
     "output_type": "stream",
     "text": [
      "/Users/oksitosin/anaconda/lib/python2.7/site-packages/IPython/kernel/__main__.py:5: DataConversionWarning: A column-vector y was passed when a 1d array was expected. Please change the shape of y to (n_samples,), for example using ravel().\n"
     ]
    },
    {
     "data": {
      "text/plain": [
       "RandomForestClassifier(bootstrap=True, class_weight=None, criterion='entropy',\n",
       "            max_depth=None, max_features='auto', max_leaf_nodes=None,\n",
       "            min_samples_leaf=1, min_samples_split=2,\n",
       "            min_weight_fraction_leaf=0.0, n_estimators=500, n_jobs=1,\n",
       "            oob_score=True, random_state=None, verbose=0, warm_start=False)"
      ]
     },
     "execution_count": 51,
     "metadata": {},
     "output_type": "execute_result"
    }
   ],
   "source": [
    "## Training!\n",
    "rf = RandomForestClassifier(n_estimators=500, oob_score=True, \n",
    "                            criterion='entropy') # initialize\n",
    "\n",
    "rf.fit(X_train, y_train) # fit the data to the algorithm"
   ]
  },
  {
   "cell_type": "markdown",
   "metadata": {
    "collapsed": true
   },
   "source": [
    "###Cross Validation"
   ]
  },
  {
   "cell_type": "code",
   "execution_count": 52,
   "metadata": {
    "collapsed": true
   },
   "outputs": [],
   "source": [
    "def evaluate_cross_validation(clf, X, y, K):\n",
    "    # create a k-fold cross validation iterator\n",
    "    cv = KFold(len(y), K, shuffle=True, random_state=0)\n",
    "    # by default the score used is the one returned by score method of the estimator (accuracy)\n",
    "    scores = cross_val_score(clf, X, y, cv=cv)\n",
    "    print (scores)\n",
    "    print (\"Mean score: {0:.3f} (+/-{1:.3f})\".format(\n",
    "        np.mean(scores), sem(scores)))"
   ]
  },
  {
   "cell_type": "code",
   "execution_count": 53,
   "metadata": {
    "collapsed": false
   },
   "outputs": [
    {
     "name": "stderr",
     "output_type": "stream",
     "text": [
      "/Users/oksitosin/anaconda/lib/python2.7/site-packages/sklearn/cross_validation.py:1459: DataConversionWarning: A column-vector y was passed when a 1d array was expected. Please change the shape of y to (n_samples,), for example using ravel().\n",
      "  estimator.fit(X_train, y_train, **fit_params)\n",
      "/Users/oksitosin/anaconda/lib/python2.7/site-packages/sklearn/cross_validation.py:1459: DataConversionWarning: A column-vector y was passed when a 1d array was expected. Please change the shape of y to (n_samples,), for example using ravel().\n",
      "  estimator.fit(X_train, y_train, **fit_params)\n",
      "/Users/oksitosin/anaconda/lib/python2.7/site-packages/sklearn/cross_validation.py:1459: DataConversionWarning: A column-vector y was passed when a 1d array was expected. Please change the shape of y to (n_samples,), for example using ravel().\n",
      "  estimator.fit(X_train, y_train, **fit_params)\n",
      "/Users/oksitosin/anaconda/lib/python2.7/site-packages/sklearn/cross_validation.py:1459: DataConversionWarning: A column-vector y was passed when a 1d array was expected. Please change the shape of y to (n_samples,), for example using ravel().\n",
      "  estimator.fit(X_train, y_train, **fit_params)\n"
     ]
    },
    {
     "name": "stdout",
     "output_type": "stream",
     "text": [
      "[ 0.85  0.86  0.87  0.87  0.87]\n",
      "Mean score: 0.863 (+/-0.004)\n"
     ]
    },
    {
     "name": "stderr",
     "output_type": "stream",
     "text": [
      "/Users/oksitosin/anaconda/lib/python2.7/site-packages/sklearn/cross_validation.py:1459: DataConversionWarning: A column-vector y was passed when a 1d array was expected. Please change the shape of y to (n_samples,), for example using ravel().\n",
      "  estimator.fit(X_train, y_train, **fit_params)\n"
     ]
    }
   ],
   "source": [
    "evaluate_cross_validation(rf, X_train, y_train, 5)"
   ]
  },
  {
   "cell_type": "markdown",
   "metadata": {},
   "source": [
    "###Model Evaluation -- Precision/Recall/Accuracy"
   ]
  },
  {
   "cell_type": "code",
   "execution_count": 54,
   "metadata": {
    "collapsed": true
   },
   "outputs": [],
   "source": [
    "def train_and_evaluate(clf, X_train, X_test, y_train, y_test):\n",
    "    \n",
    "    clf.fit(X_train, y_train)\n",
    "    \n",
    "    print (\"Accuracy on training set:\")\n",
    "    print (clf.score(X_train, y_train))\n",
    "    print (\"Accuracy on testing set:\")\n",
    "    print (clf.score(X_test, y_test))\n",
    "    \n",
    "    y_pred = clf.predict(X_test)\n",
    "    \n",
    "    print (\"Classification Report:\")\n",
    "    print (metrics.classification_report(y_test, y_pred))\n",
    "    print (\"Confusion Matrix:\")\n",
    "    print (metrics.confusion_matrix(y_test, y_pred))"
   ]
  },
  {
   "cell_type": "code",
   "execution_count": 55,
   "metadata": {
    "collapsed": false
   },
   "outputs": [
    {
     "name": "stdout",
     "output_type": "stream",
     "text": [
      "Accuracy on training set:\n",
      "0.999460043197\n",
      "Accuracy on testing set:\n",
      "0.864004317323\n",
      "Classification Report:\n",
      "             precision    recall  f1-score   support\n",
      "\n",
      "        0.0       0.87      0.89      0.88      1037\n",
      "        1.0       0.86      0.83      0.84       816\n",
      "\n",
      "avg / total       0.86      0.86      0.86      1853\n",
      "\n",
      "Confusion Matrix:\n",
      "[[923 114]\n",
      " [138 678]]\n"
     ]
    },
    {
     "name": "stderr",
     "output_type": "stream",
     "text": [
      "/Users/oksitosin/anaconda/lib/python2.7/site-packages/IPython/kernel/__main__.py:3: DataConversionWarning: A column-vector y was passed when a 1d array was expected. Please change the shape of y to (n_samples,), for example using ravel().\n",
      "  app.launch_new_instance()\n"
     ]
    }
   ],
   "source": [
    "train_and_evaluate(rf, X_train, X_test, y_train, y_test)"
   ]
  },
  {
   "cell_type": "markdown",
   "metadata": {},
   "source": [
    "###Learning Curve"
   ]
  },
  {
   "cell_type": "code",
   "execution_count": 56,
   "metadata": {
    "collapsed": true
   },
   "outputs": [],
   "source": [
    "def plot_learning_curve(estimator, title, X, y, ylim=None, cv=None,\n",
    "                        n_jobs=1, train_sizes=np.linspace(.1, 1.0, 5)):\n",
    "    \n",
    "    plt.figure()\n",
    "    plt.title(title)\n",
    "    if ylim is not None:\n",
    "        plt.ylim(*ylim)\n",
    "    plt.xlabel(\"Training examples\")\n",
    "    plt.ylabel(\"Score\")\n",
    "    train_sizes, train_scores, test_scores = learning_curve(\n",
    "        estimator, X, y, cv=cv, n_jobs=n_jobs, train_sizes=train_sizes)\n",
    "    train_scores_mean = np.mean(train_scores, axis=1)\n",
    "    train_scores_std = np.std(train_scores, axis=1)\n",
    "    test_scores_mean = np.mean(test_scores, axis=1)\n",
    "    test_scores_std = np.std(test_scores, axis=1)\n",
    "    plt.grid()\n",
    "\n",
    "    plt.fill_between(train_sizes, train_scores_mean - train_scores_std,\n",
    "                     train_scores_mean + train_scores_std, alpha=0.1,\n",
    "                     color=\"r\")\n",
    "    plt.fill_between(train_sizes, test_scores_mean - test_scores_std,\n",
    "                     test_scores_mean + test_scores_std, alpha=0.1, color=\"g\")\n",
    "    plt.plot(train_sizes, train_scores_mean, 'o-', color=\"r\",\n",
    "             label=\"Training score\")\n",
    "    plt.plot(train_sizes, test_scores_mean, 'o-', color=\"g\",\n",
    "             label=\"Cross-validation score\")\n",
    "\n",
    "    plt.legend(loc=\"best\")\n",
    "    return plt"
   ]
  },
  {
   "cell_type": "code",
   "execution_count": 57,
   "metadata": {
    "collapsed": false
   },
   "outputs": [
    {
     "name": "stderr",
     "output_type": "stream",
     "text": [
      "/Users/oksitosin/anaconda/lib/python2.7/site-packages/sklearn/cross_validation.py:1459: DataConversionWarning: A column-vector y was passed when a 1d array was expected. Please change the shape of y to (n_samples,), for example using ravel().\n",
      "  estimator.fit(X_train, y_train, **fit_params)\n",
      "/Users/oksitosin/anaconda/lib/python2.7/site-packages/sklearn/cross_validation.py:1459: DataConversionWarning: A column-vector y was passed when a 1d array was expected. Please change the shape of y to (n_samples,), for example using ravel().\n",
      "  estimator.fit(X_train, y_train, **fit_params)\n",
      "/Users/oksitosin/anaconda/lib/python2.7/site-packages/sklearn/cross_validation.py:1459: DataConversionWarning: A column-vector y was passed when a 1d array was expected. Please change the shape of y to (n_samples,), for example using ravel().\n",
      "  estimator.fit(X_train, y_train, **fit_params)\n",
      "/Users/oksitosin/anaconda/lib/python2.7/site-packages/sklearn/cross_validation.py:1459: DataConversionWarning: A column-vector y was passed when a 1d array was expected. Please change the shape of y to (n_samples,), for example using ravel().\n",
      "  estimator.fit(X_train, y_train, **fit_params)\n",
      "/Users/oksitosin/anaconda/lib/python2.7/site-packages/sklearn/cross_validation.py:1459: DataConversionWarning: A column-vector y was passed when a 1d array was expected. Please change the shape of y to (n_samples,), for example using ravel().\n",
      "  estimator.fit(X_train, y_train, **fit_params)\n",
      "/Users/oksitosin/anaconda/lib/python2.7/site-packages/sklearn/cross_validation.py:1459: DataConversionWarning: A column-vector y was passed when a 1d array was expected. Please change the shape of y to (n_samples,), for example using ravel().\n",
      "  estimator.fit(X_train, y_train, **fit_params)\n",
      "/Users/oksitosin/anaconda/lib/python2.7/site-packages/sklearn/cross_validation.py:1459: DataConversionWarning: A column-vector y was passed when a 1d array was expected. Please change the shape of y to (n_samples,), for example using ravel().\n",
      "  estimator.fit(X_train, y_train, **fit_params)\n",
      "/Users/oksitosin/anaconda/lib/python2.7/site-packages/sklearn/cross_validation.py:1459: DataConversionWarning: A column-vector y was passed when a 1d array was expected. Please change the shape of y to (n_samples,), for example using ravel().\n",
      "  estimator.fit(X_train, y_train, **fit_params)\n",
      "/Users/oksitosin/anaconda/lib/python2.7/site-packages/sklearn/cross_validation.py:1459: DataConversionWarning: A column-vector y was passed when a 1d array was expected. Please change the shape of y to (n_samples,), for example using ravel().\n",
      "  estimator.fit(X_train, y_train, **fit_params)\n",
      "/Users/oksitosin/anaconda/lib/python2.7/site-packages/sklearn/cross_validation.py:1459: DataConversionWarning: A column-vector y was passed when a 1d array was expected. Please change the shape of y to (n_samples,), for example using ravel().\n",
      "  estimator.fit(X_train, y_train, **fit_params)\n",
      "/Users/oksitosin/anaconda/lib/python2.7/site-packages/sklearn/cross_validation.py:1459: DataConversionWarning: A column-vector y was passed when a 1d array was expected. Please change the shape of y to (n_samples,), for example using ravel().\n",
      "  estimator.fit(X_train, y_train, **fit_params)\n",
      "/Users/oksitosin/anaconda/lib/python2.7/site-packages/sklearn/cross_validation.py:1459: DataConversionWarning: A column-vector y was passed when a 1d array was expected. Please change the shape of y to (n_samples,), for example using ravel().\n",
      "  estimator.fit(X_train, y_train, **fit_params)\n",
      "/Users/oksitosin/anaconda/lib/python2.7/site-packages/sklearn/cross_validation.py:1459: DataConversionWarning: A column-vector y was passed when a 1d array was expected. Please change the shape of y to (n_samples,), for example using ravel().\n",
      "  estimator.fit(X_train, y_train, **fit_params)\n",
      "/Users/oksitosin/anaconda/lib/python2.7/site-packages/sklearn/cross_validation.py:1459: DataConversionWarning: A column-vector y was passed when a 1d array was expected. Please change the shape of y to (n_samples,), for example using ravel().\n",
      "  estimator.fit(X_train, y_train, **fit_params)\n",
      "/Users/oksitosin/anaconda/lib/python2.7/site-packages/sklearn/cross_validation.py:1459: DataConversionWarning: A column-vector y was passed when a 1d array was expected. Please change the shape of y to (n_samples,), for example using ravel().\n",
      "  estimator.fit(X_train, y_train, **fit_params)\n",
      "/Users/oksitosin/anaconda/lib/python2.7/site-packages/sklearn/cross_validation.py:1459: DataConversionWarning: A column-vector y was passed when a 1d array was expected. Please change the shape of y to (n_samples,), for example using ravel().\n",
      "  estimator.fit(X_train, y_train, **fit_params)\n",
      "/Users/oksitosin/anaconda/lib/python2.7/site-packages/sklearn/cross_validation.py:1459: DataConversionWarning: A column-vector y was passed when a 1d array was expected. Please change the shape of y to (n_samples,), for example using ravel().\n",
      "  estimator.fit(X_train, y_train, **fit_params)\n",
      "/Users/oksitosin/anaconda/lib/python2.7/site-packages/sklearn/cross_validation.py:1459: DataConversionWarning: A column-vector y was passed when a 1d array was expected. Please change the shape of y to (n_samples,), for example using ravel().\n",
      "  estimator.fit(X_train, y_train, **fit_params)\n",
      "/Users/oksitosin/anaconda/lib/python2.7/site-packages/sklearn/cross_validation.py:1459: DataConversionWarning: A column-vector y was passed when a 1d array was expected. Please change the shape of y to (n_samples,), for example using ravel().\n",
      "  estimator.fit(X_train, y_train, **fit_params)\n",
      "/Users/oksitosin/anaconda/lib/python2.7/site-packages/sklearn/cross_validation.py:1459: DataConversionWarning: A column-vector y was passed when a 1d array was expected. Please change the shape of y to (n_samples,), for example using ravel().\n",
      "  estimator.fit(X_train, y_train, **fit_params)\n",
      "/Users/oksitosin/anaconda/lib/python2.7/site-packages/sklearn/cross_validation.py:1459: DataConversionWarning: A column-vector y was passed when a 1d array was expected. Please change the shape of y to (n_samples,), for example using ravel().\n",
      "  estimator.fit(X_train, y_train, **fit_params)\n",
      "/Users/oksitosin/anaconda/lib/python2.7/site-packages/sklearn/cross_validation.py:1459: DataConversionWarning: A column-vector y was passed when a 1d array was expected. Please change the shape of y to (n_samples,), for example using ravel().\n",
      "  estimator.fit(X_train, y_train, **fit_params)\n",
      "/Users/oksitosin/anaconda/lib/python2.7/site-packages/sklearn/cross_validation.py:1459: DataConversionWarning: A column-vector y was passed when a 1d array was expected. Please change the shape of y to (n_samples,), for example using ravel().\n",
      "  estimator.fit(X_train, y_train, **fit_params)\n",
      "/Users/oksitosin/anaconda/lib/python2.7/site-packages/sklearn/cross_validation.py:1459: DataConversionWarning: A column-vector y was passed when a 1d array was expected. Please change the shape of y to (n_samples,), for example using ravel().\n",
      "  estimator.fit(X_train, y_train, **fit_params)\n",
      "/Users/oksitosin/anaconda/lib/python2.7/site-packages/sklearn/cross_validation.py:1459: DataConversionWarning: A column-vector y was passed when a 1d array was expected. Please change the shape of y to (n_samples,), for example using ravel().\n",
      "  estimator.fit(X_train, y_train, **fit_params)\n"
     ]
    },
    {
     "data": {
      "image/png": "[encoded data removed]",
      "text/plain": [
       "<matplotlib.figure.Figure at 0x1044bb690>"
      ]
     },
     "metadata": {},
     "output_type": "display_data"
    }
   ],
   "source": [
    "cv = KFold(n=len(X_train), n_folds=5, shuffle=True, random_state=0)\n",
    "plot_learning_curve(rf, 'Random Forests', X_train, y_train, (0.1, 1.05), cv=cv, n_jobs=4)\n",
    "\n",
    "plt.show()"
   ]
  },
  {
   "cell_type": "markdown",
   "metadata": {},
   "source": [
    "###Confusion Matrix"
   ]
  },
  {
   "cell_type": "code",
   "execution_count": 58,
   "metadata": {
    "collapsed": false
   },
   "outputs": [
    {
     "name": "stdout",
     "output_type": "stream",
     "text": [
      "Normalized confusion matrix\n",
      "[[ 0.89  0.11]\n",
      " [ 0.17  0.83]]\n"
     ]
    },
    {
     "data": {
      "image/png": "[encoded data removed]",
      "text/plain": [
       "<matplotlib.figure.Figure at 0x1269ea3d0>"
      ]
     },
     "metadata": {},
     "output_type": "display_data"
    }
   ],
   "source": [
    "def plot_confusion_matrix(cm, title='Confusion matrix', cmap=plt.cm.Blues):\n",
    "    plt.imshow(cm, interpolation='nearest', cmap=cmap)\n",
    "    plt.title(title)\n",
    "    plt.colorbar()\n",
    "    plt.tight_layout()\n",
    "    plt.ylabel('True label')\n",
    "    plt.xlabel('Predicted label')\n",
    "\n",
    "y_pred = rf.predict(X_test)\n",
    "# Compute confusion matrix\n",
    "cm = confusion_matrix(y_test, y_pred)\n",
    "np.set_printoptions(precision=2)\n",
    "# print('Confusion matrix, without normalization')\n",
    "# print(cm)\n",
    "# plt.figure()\n",
    "# plot_confusion_matrix(cm)\n",
    "\n",
    "# Normalize the confusion matrix by row (i.e by the number of samples\n",
    "# in each class)\n",
    "cm_normalized = cm.astype('float') / cm.sum(axis=1)[:, np.newaxis]\n",
    "print('Normalized confusion matrix')\n",
    "print(cm_normalized)\n",
    "plt.figure(facecolor='white')\n",
    "plot_confusion_matrix(cm_normalized, title='Normalized confusion matrix')\n",
    "\n",
    "plt.show()"
   ]
  },
  {
   "cell_type": "markdown",
   "metadata": {},
   "source": [
    "###ROC Curve"
   ]
  },
  {
   "cell_type": "code",
   "execution_count": 59,
   "metadata": {
    "collapsed": true
   },
   "outputs": [],
   "source": [
    "def draw_roc_curve(model, X_train, X_test, y_train, y_test):   \n",
    "    \n",
    "    try:\n",
    "        y_score = model.fit(X_train, y_train).predict_proba(X_test)[:,1]\n",
    "    except:\n",
    "        y_score = model.fit(X_train, y_train).decision_function(X_test)\n",
    "    fpr, tpr, _ = roc_curve(y_test, y_score)\n",
    "    roc_auc = auc(fpr, tpr)\n",
    "\n",
    "    # Plot of a ROC curve for a specific class\n",
    "    plt.figure()\n",
    "    plt.plot(fpr, tpr, label='ROC curve (area = %0.2f)' % roc_auc)\n",
    "    plt.plot([0, 1], [0, 1], 'k--')\n",
    "    plt.xlim([0.0, 1.0])\n",
    "    plt.ylim([0.0, 1.05])\n",
    "    plt.xlabel('False Positive Rate')\n",
    "    plt.ylabel('True Positive Rate')\n",
    "    plt.title('Receiver operating characteristic')\n",
    "    plt.legend(loc=\"lower right\")\n",
    "    plt.show()"
   ]
  },
  {
   "cell_type": "code",
   "execution_count": 60,
   "metadata": {
    "collapsed": false
   },
   "outputs": [
    {
     "name": "stderr",
     "output_type": "stream",
     "text": [
      "/Users/oksitosin/anaconda/lib/python2.7/site-packages/IPython/kernel/__main__.py:4: DataConversionWarning: A column-vector y was passed when a 1d array was expected. Please change the shape of y to (n_samples,), for example using ravel().\n"
     ]
    },
    {
     "data": {
      "image/png": "[encoded data removed]",
      "text/plain": [
       "<matplotlib.figure.Figure at 0x126b03650>"
      ]
     },
     "metadata": {},
     "output_type": "display_data"
    }
   ],
   "source": [
    "draw_roc_curve(rf, X_train, X_test, y_train, y_test )"
   ]
  },
  {
   "cell_type": "code",
   "execution_count": 67,
   "metadata": {
    "collapsed": false
   },
   "outputs": [
    {
     "data": {
      "text/plain": [
       "(9261, 90)"
      ]
     },
     "execution_count": 67,
     "metadata": {},
     "output_type": "execute_result"
    }
   ],
   "source": [
    "dfrm.shape"
   ]
  },
  {
   "cell_type": "code",
   "execution_count": 69,
   "metadata": {
    "collapsed": false
   },
   "outputs": [],
   "source": [
    "dfrm = dfrm.drop('Accepted', axis=1)"
   ]
  },
  {
   "cell_type": "code",
   "execution_count": 70,
   "metadata": {
    "collapsed": false
   },
   "outputs": [
    {
     "data": {
      "text/plain": [
       "(9261, 89)"
      ]
     },
     "execution_count": 70,
     "metadata": {},
     "output_type": "execute_result"
    }
   ],
   "source": [
    "dfrm.shape"
   ]
  },
  {
   "cell_type": "markdown",
   "metadata": {},
   "source": [
    "###Feature importances with forests of trees -- ExtraTreeClassifier\n",
    "\n",
    "This shows the use of forests of trees to evaluate the importance of features on classification task. \n",
    "The red bars are the feature importances of the forest, along with their inter-trees variability."
   ]
  },
  {
   "cell_type": "code",
   "execution_count": 71,
   "metadata": {
    "collapsed": false,
    "scrolled": false
   },
   "outputs": [
    {
     "data": {
      "image/png": "[encoded data removed]",
      "text/plain": [
       "<matplotlib.figure.Figure at 0x112e92d50>"
      ]
     },
     "metadata": {},
     "output_type": "display_data"
    }
   ],
   "source": [
    "import numpy as np\n",
    "import matplotlib.pyplot as plt\n",
    "\n",
    "from sklearn.datasets import make_classification\n",
    "from sklearn.ensemble import ExtraTreesClassifier\n",
    "\n",
    "\n",
    "# # Build a forest and compute the feature importances\n",
    "# forest = ExtraTreesClassifier(n_estimators=500,\n",
    "#                               random_state=0)\n",
    "\n",
    "# forest.fit(X, y)\n",
    "importances = rf.feature_importances_\n",
    "std = np.std([tree.feature_importances_ for tree in rf.estimators_],\n",
    "             axis=0)\n",
    "indices = np.argsort(importances)[::-1]\n",
    "\n",
    "# Print the feature ranking\n",
    "# print(\"Feature ranking:\")\n",
    "\n",
    "# for f in range(X.shape[1]):\n",
    "#     print(\"%d. feature %d (%f)\" % (f + 1, indices[f], importances[indices[f]]))\n",
    "\n",
    "# Plot the feature importances of the forest\n",
    "plt.figure(figsize=(25,10))\n",
    "plt.title(\"Feature importances\")\n",
    "plt.bar(range(X.shape[1]), importances[indices],\n",
    "       color=\"r\", yerr=std[indices], align=\"center\")\n",
    "plt.xticks(range(X.shape[1]), indices)\n",
    "plt.xlim([-1, X.shape[1]])\n",
    "plt.show()"
   ]
  },
  {
   "cell_type": "code",
   "execution_count": 77,
   "metadata": {
    "collapsed": false
   },
   "outputs": [
    {
     "name": "stdout",
     "output_type": "stream",
     "text": [
      "GPA\n",
      "Verbal_GRE_Normal\n",
      "Quant_GRE_Normal\n",
      "Writing_GRE\n",
      "Degree_Masters\n",
      "Is_GPA\n",
      "School_stanforduniversity\n",
      "School_universitywashington\n"
     ]
    }
   ],
   "source": [
    "print dfrm.columns[1]\n",
    "print dfrm.columns[9]\n",
    "print dfrm.columns[6]\n",
    "print dfrm.columns[10]\n",
    "print dfrm.columns[0]\n",
    "print dfrm.columns[2]\n",
    "print dfrm.columns[49]\n",
    "print dfrm.columns[77]"
   ]
  },
  {
   "cell_type": "markdown",
   "metadata": {},
   "source": [
    "###Model Validation"
   ]
  },
  {
   "cell_type": "code",
   "execution_count": 25,
   "metadata": {
    "collapsed": false
   },
   "outputs": [
    {
     "name": "stdout",
     "output_type": "stream",
     "text": [
      "Degree_Masters\n",
      "GPA\n",
      "Is_GPA\n",
      "Is_Quant\n",
      "Is_Verbal\n",
      "Is_Writing\n",
      "Quant_GRE_Normal\n",
      "Semester_Fall\n",
      "Sub_GRE\n",
      "Verbal_GRE_Normal\n",
      "Writing_GRE\n",
      "School_arizonastateuniversity\n",
      "School_bostonuniveristy\n",
      "School_brownuniversity\n",
      "School_buffalosuny\n",
      "School_carnegiemellon\n",
      "School_clemsonuniversity\n",
      "School_coloradouniversityboulder\n",
      "School_columbiauniversity\n",
      "School_cornelluniversity\n",
      "School_dartmouthcollege\n",
      "School_duke\n",
      "School_epfl\n",
      "School_ethzurich\n",
      "School_georgiatech\n",
      "School_harvarduniversity\n",
      "School_illinoisurbanachampaign\n",
      "School_indianauniversitybloomington\n",
      "School_iowasateuniversity\n",
      "School_johnshopkinsuniversity\n",
      "School_kingabdullahuniversityscienceandtechnology\n",
      "School_mcgilluniversity\n",
      "School_michiganstateuniversity\n",
      "School_mit\n",
      "School_newyorkuniversity\n",
      "School_northcarolinastateuniverisy\n",
      "School_northeasternuniversity\n",
      "School_northwesternuniversity\n",
      "School_ohiostateuniversity\n",
      "School_oregonstateuniversity\n",
      "School_oxford\n",
      "School_pennstateuniversity\n",
      "School_pittsburghu\n",
      "School_princeton\n",
      "School_purdueuniversity\n",
      "School_rensselaerpolytechnicinstitute\n",
      "School_riceuniversity\n",
      "School_rutgers\n",
      "School_simonfraseruniversitysfu\n",
      "School_stanforduniversity\n",
      "School_stateuniversitynewyorkstonybrook\n",
      "School_syracuseuniversity\n",
      "School_tamu\n",
      "School_texasuniversityaustin\n",
      "School_tuftsuniversity\n",
      "School_ucberkeley\n",
      "School_ucdavis\n",
      "School_uci\n",
      "School_ucla\n",
      "School_ucr\n",
      "School_ucsandiego\n",
      "School_ucsb\n",
      "School_ucsc\n",
      "School_umassamherst\n",
      "School_universityalberta\n",
      "School_universityarizona\n",
      "School_universitybritishcolumbia\n",
      "School_universitychicago\n",
      "School_universityflorida\n",
      "School_universitymaryland\n",
      "School_universitymichiganannarbor\n",
      "School_universityminnesota\n",
      "School_universitynotredame\n",
      "School_universityrochester\n",
      "School_universitytoronto\n",
      "School_universityutah\n",
      "School_universityvirginia\n",
      "School_universitywashington\n",
      "School_universitywaterloo\n",
      "School_universitywisconsinmadison\n",
      "School_upenn\n",
      "School_usc\n",
      "School_vanderbiltuniversity\n",
      "School_virginiatech\n",
      "School_yale\n",
      "Status_A\n",
      "Status_I\n",
      "Status_O\n",
      "Status_U\n"
     ]
    }
   ],
   "source": [
    "for i in dfrm.columns:\n",
    "    print i"
   ]
  },
  {
   "cell_type": "code",
   "execution_count": 26,
   "metadata": {
    "collapsed": false
   },
   "outputs": [
    {
     "data": {
      "text/plain": [
       "'School_purdueuniversity'"
      ]
     },
     "execution_count": 26,
     "metadata": {},
     "output_type": "execute_result"
    }
   ],
   "source": [
    "col_list = []\n",
    "\n",
    "for i in dfrm.columns:\n",
    "    col_list.append(i)\n",
    "    \n",
    "col_list[44]"
   ]
  },
  {
   "cell_type": "code",
   "execution_count": 27,
   "metadata": {
    "collapsed": false
   },
   "outputs": [
    {
     "data": {
      "text/plain": [
       "array([   1. ,    3.7,    1. ,    1. ,    1. ,    1. ,  163. ,    1. ,\n",
       "          0. ,  150. ,    4.5,    0. ,    0. ,    0. ,    0. ,    0. ,\n",
       "          0. ,    0. ,    0. ,    0. ,    0. ,    0. ,    0. ,    0. ,\n",
       "          0. ,    0. ,    0. ,    0. ,    0. ,    0. ,    0. ,    0. ,\n",
       "          0. ,    0. ,    0. ,    0. ,    0. ,    0. ,    0. ,    0. ,\n",
       "          0. ,    0. ,    0. ,    0. ,    1. ,    0. ,    0. ,    0. ,\n",
       "          0. ,    0. ,    0. ,    0. ,    0. ,    0. ,    0. ,    0. ,\n",
       "          0. ,    0. ,    0. ,    0. ,    0. ,    0. ,    0. ,    0. ,\n",
       "          0. ,    0. ,    0. ,    0. ,    0. ,    0. ,    0. ,    0. ,\n",
       "          0. ,    0. ,    0. ,    0. ,    0. ,    0. ,    0. ,    0. ,\n",
       "          0. ,    0. ,    0. ,    0. ,    0. ,    0. ,    1. ,    0. ,\n",
       "          0. ])"
      ]
     },
     "execution_count": 27,
     "metadata": {},
     "output_type": "execute_result"
    }
   ],
   "source": [
    "### Masters\n",
    "### GPA 3.7\n",
    "### Quant:163\n",
    "### Fall 1\n",
    "### Subject 0\n",
    "### Verbal 150\n",
    "### Writing 4.5\n",
    "### Purdue\n",
    "### I\n",
    "\n",
    "\n",
    "\n",
    "\n",
    "purdue = np.array([1,3.7,1,1,1,1,163,1,0,150,4.5,0,0,0,0,0,0,0,0,0,0,0,0,0,0,0,0,0,0,0,0,0,0,0,0,0,0,0,0,0,0,0,0,0,1,0,0,0,0,0,0,0,0,0,0,0,0,0,0,0,0,0,0,0,0,0,0,0,0,0,0,0,0,0,0,0,0,0,0,0,0,0,0,0,0,0,1,0,0])\n",
    "purdue"
   ]
  },
  {
   "cell_type": "code",
   "execution_count": 28,
   "metadata": {
    "collapsed": false
   },
   "outputs": [
    {
     "data": {
      "text/plain": [
       "array([   1. ,    3.7,  163. ,    1. ,    0. ,  150. ,    4.5,    0. ,\n",
       "          0. ,    1. ,    0. ,    0. ,    0. ,    0. ,    0. ,    0. ,\n",
       "          0. ,    0. ,    0. ,    0. ,    0. ,    0. ,    0. ,    0. ,\n",
       "          0. ,    0. ,    0. ,    0. ,    0. ,    0. ,    0. ,    0. ,\n",
       "          0. ,    0. ,    0. ,    0. ,    0. ,    0. ,    0. ,    0. ,\n",
       "          0. ,    0. ,    0. ,    0. ,    0. ,    0. ,    0. ,    0. ,\n",
       "          0. ,    0. ,    0. ,    0. ,    0. ,    0. ,    0. ,    0. ,\n",
       "          0. ,    0. ,    0. ,    0. ,    0. ,    0. ,    0. ,    0. ,\n",
       "          0. ,    0. ,    0. ,    0. ,    0. ,    0. ,    0. ,    0. ,\n",
       "          0. ,    0. ,    0. ,    0. ,    0. ,    0. ,    0. ,    0. ,\n",
       "          0. ,    0. ,    1. ,    0. ,    0. ])"
      ]
     },
     "execution_count": 28,
     "metadata": {},
     "output_type": "execute_result"
    }
   ],
   "source": [
    "brown = np.array([1,3.7,163,1,0,150,4.5,0,0,1,0,0,0,0,0,0,0,0,0,0,0,0,0,0,0,0,0,0,0,0,0,0,0,0,0,0,0,0,0,0,0,0,0,0,0,0,0,0,0,0,0,0,0,0,0,0,0,0,0,0,0,0,0,0,0,0,0,0,0,0,0,0,0,0,0,0,0,0,0,0,0,0,1,0,0])\n",
    "brown"
   ]
  },
  {
   "cell_type": "code",
   "execution_count": 29,
   "metadata": {
    "collapsed": false
   },
   "outputs": [
    {
     "data": {
      "text/plain": [
       "array([   1. ,    3.5,  150. ,    1. ,    1. ,  150. ,    3.5,    1. ,\n",
       "          0. ,    0. ,    0. ,    0. ,    0. ,    0. ,    0. ,    0. ,\n",
       "          0. ,    0. ,    0. ,    0. ,    0. ,    0. ,    0. ,    0. ,\n",
       "          0. ,    0. ,    0. ,    0. ,    0. ,    0. ,    0. ,    0. ,\n",
       "          0. ,    0. ,    0. ,    0. ,    0. ,    0. ,    0. ,    0. ,\n",
       "          0. ,    0. ,    0. ,    0. ,    0. ,    0. ,    0. ,    0. ,\n",
       "          0. ,    0. ,    0. ,    0. ,    0. ,    0. ,    0. ,    0. ,\n",
       "          0. ,    0. ,    0. ,    0. ,    0. ,    0. ,    0. ,    0. ,\n",
       "          0. ,    0. ,    0. ,    0. ,    0. ,    0. ,    0. ,    0. ,\n",
       "          0. ,    0. ,    0. ,    0. ,    0. ,    0. ,    0. ,    0. ,\n",
       "          0. ,    1. ,    0. ,    0. ,    0. ])"
      ]
     },
     "execution_count": 29,
     "metadata": {},
     "output_type": "execute_result"
    }
   ],
   "source": [
    "web = np.array([1,3.5,150,1,1,150,3.5,1,0,0,0,0,0,0,0,0,0,0,0,0,0,0,0,0,0,0,0,0,0,0,0,0,0,0,0,0,0,0,0,0,0,0,0,0,0,0,0,0,0,0,0,0,0,0,0,0,0,0,0,0,0,0,0,0,0,0,0,0,0,0,0,0,0,0,0,0,0,0,0,0,0,1,0,0,0])\n",
    "web"
   ]
  },
  {
   "cell_type": "code",
   "execution_count": 30,
   "metadata": {
    "collapsed": false
   },
   "outputs": [
    {
     "name": "stdout",
     "output_type": "stream",
     "text": [
      "[ 0.]\n"
     ]
    }
   ],
   "source": [
    "print rf.predict(purdue)\n",
    "# print rf.predict(brown)"
   ]
  },
  {
   "cell_type": "code",
   "execution_count": 31,
   "metadata": {
    "collapsed": false
   },
   "outputs": [
    {
     "name": "stdout",
     "output_type": "stream",
     "text": [
      "[[ 0.63  0.37]]\n"
     ]
    }
   ],
   "source": [
    "print rf.predict_proba(purdue)\n",
    "# print rf.predict_proba(brown)\n",
    "# print rf.predict_proba(web)"
   ]
  },
  {
   "cell_type": "code",
   "execution_count": null,
   "metadata": {
    "collapsed": true
   },
   "outputs": [],
   "source": []
  }
 ],
 "metadata": {
  "kernelspec": {
   "display_name": "Python 2",
   "language": "python",
   "name": "python2"
  },
  "language_info": {
   "codemirror_mode": {
    "name": "ipython",
    "version": 2
   },
   "file_extension": ".py",
   "mimetype": "text/x-python",
   "name": "python",
   "nbconvert_exporter": "python",
   "pygments_lexer": "ipython2",
   "version": "2.7.10"
  }
 },
 "nbformat": 4,
 "nbformat_minor": 0
}
